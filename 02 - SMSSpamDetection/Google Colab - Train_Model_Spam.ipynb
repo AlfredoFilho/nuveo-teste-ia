{
  "nbformat": 4,
  "nbformat_minor": 0,
  "metadata": {
    "colab": {
      "name": "Train Model - Spam",
      "provenance": [],
      "collapsed_sections": []
    },
    "kernelspec": {
      "name": "python3",
      "display_name": "Python 3"
    },
    "language_info": {
      "name": "python"
    }
  },
  "cells": [
    {
      "cell_type": "markdown",
      "metadata": {
        "id": "al8Ha76aR8s_"
      },
      "source": [
        "## **Montar Drive**"
      ]
    },
    {
      "cell_type": "code",
      "metadata": {
        "id": "9bQSAdWTtJSH",
        "colab": {
          "base_uri": "https://localhost:8080/"
        },
        "outputId": "d3cb05cf-db00-4802-f802-c8d7e021dc63"
      },
      "source": [
        "from google.colab import drive\n",
        "drive.mount('/content/drive')"
      ],
      "execution_count": null,
      "outputs": [
        {
          "output_type": "stream",
          "text": [
            "Drive already mounted at /content/drive; to attempt to forcibly remount, call drive.mount(\"/content/drive\", force_remount=True).\n"
          ],
          "name": "stdout"
        }
      ]
    },
    {
      "cell_type": "markdown",
      "metadata": {
        "id": "QnpS7cbQSEBJ"
      },
      "source": [
        "## **Criar diretórios e baixar arquivos**"
      ]
    },
    {
      "cell_type": "code",
      "metadata": {
        "colab": {
          "base_uri": "https://localhost:8080/"
        },
        "id": "coK0WXM-rWIi",
        "outputId": "3360d5cc-e75c-45de-c24d-38c5c06c6b61"
      },
      "source": [
        "import os\n",
        "import requests\n",
        "\n",
        "#Diretórios\n",
        "paths = [\"drive/MyDrive/SpamDetection\",\n",
        "         \"drive/MyDrive/SpamDetection/TestSet\",\n",
        "         \"drive/MyDrive/SpamDetection/TrainingSet\",\n",
        "         \"drive/MyDrive/SpamDetection/Model\"]\n",
        "\n",
        "#Criar Diretórios\n",
        "for path in paths:\n",
        "    if not os.path.exists(path):\n",
        "        if os.name == 'posix':\n",
        "            !mkdir -p {path}\n",
        "\n",
        "#Arquivos de treino e test\n",
        "urlsDownload = {\n",
        "    'test': [\n",
        "        \"https://github.com/AlfredoFilho/nuveo-teste-ia/raw/main/02%20-%20SMSSpamDetection/TestSet/sms-hamspam-test.txt\",\n",
        "    ],\n",
        "    'train': [\n",
        "        \"https://github.com/AlfredoFilho/nuveo-teste-ia/raw/main/02%20-%20SMSSpamDetection/TrainingSet/sms-hamspam-train.csv\",\n",
        "        \"https://github.com/AlfredoFilho/nuveo-teste-ia/raw/main/02%20-%20SMSSpamDetection/TrainingSet/sms-hamspam-val.csv\"\n",
        "    ]\n",
        "}\n",
        "\n",
        "def download_file(url, folder):\n",
        "    \n",
        "    local_filename = url.split('/')[-1]\n",
        "    local_filename = folder + local_filename\n",
        "\n",
        "    with requests.get(url, stream = True) as r:\n",
        "        r.raise_for_status()\n",
        "        with open(local_filename, 'wb') as f:\n",
        "            for chunk in r.iter_content(chunk_size=8192): \n",
        "                if chunk:\n",
        "                    f.write(chunk)\n",
        "\n",
        "#Baixar arquivos\n",
        "for url in urlsDownload['test']:\n",
        "    download_file(url = url, folder = 'drive/MyDrive/SpamDetection/TestSet/')\n",
        "\n",
        "for url in urlsDownload['train']:\n",
        "    download_file(url = url, folder = 'drive/MyDrive/SpamDetection/TrainingSet/')\n",
        "\n",
        "#Entrar no diretório\n",
        "%cd drive/MyDrive/SpamDetection/"
      ],
      "execution_count": null,
      "outputs": [
        {
          "output_type": "stream",
          "text": [
            "/content/drive/MyDrive/SpamDetection\n"
          ],
          "name": "stdout"
        }
      ]
    },
    {
      "cell_type": "markdown",
      "metadata": {
        "id": "uNBobKuhuDrN"
      },
      "source": [
        "## **Importações**"
      ]
    },
    {
      "cell_type": "code",
      "metadata": {
        "id": "c7piN9Iuri_G"
      },
      "source": [
        "import numpy as np\n",
        "import pandas as pd\n",
        "import matplotlib.pyplot as plt\n",
        "import seaborn as sns\n",
        "%matplotlib inline\n",
        "\n",
        "import warnings\n",
        "warnings.filterwarnings(\"ignore\")\n",
        "\n",
        "import pickle\n",
        "import tensorflow as tf\n",
        "import wordcloud"
      ],
      "execution_count": null,
      "outputs": []
    },
    {
      "cell_type": "markdown",
      "metadata": {
        "id": "cv159dfSuQyt"
      },
      "source": [
        "## **Importar dataframe**"
      ]
    },
    {
      "cell_type": "code",
      "metadata": {
        "colab": {
          "base_uri": "https://localhost:8080/",
          "height": 204
        },
        "id": "gwnwGL_VuREm",
        "outputId": "6dd2b588-394b-41e5-8f31-206c53d2898f"
      },
      "source": [
        "data = pd.read_csv(\"TrainingSet/sms-hamspam-train.csv\",encoding='latin-1')\n",
        "data.head()"
      ],
      "execution_count": null,
      "outputs": [
        {
          "output_type": "execute_result",
          "data": {
            "text/html": [
              "<div>\n",
              "<style scoped>\n",
              "    .dataframe tbody tr th:only-of-type {\n",
              "        vertical-align: middle;\n",
              "    }\n",
              "\n",
              "    .dataframe tbody tr th {\n",
              "        vertical-align: top;\n",
              "    }\n",
              "\n",
              "    .dataframe thead th {\n",
              "        text-align: right;\n",
              "    }\n",
              "</style>\n",
              "<table border=\"1\" class=\"dataframe\">\n",
              "  <thead>\n",
              "    <tr style=\"text-align: right;\">\n",
              "      <th></th>\n",
              "      <th>class_label</th>\n",
              "      <th>message</th>\n",
              "    </tr>\n",
              "  </thead>\n",
              "  <tbody>\n",
              "    <tr>\n",
              "      <th>0</th>\n",
              "      <td>ham</td>\n",
              "      <td>Webpage s not available!</td>\n",
              "    </tr>\n",
              "    <tr>\n",
              "      <th>1</th>\n",
              "      <td>ham</td>\n",
              "      <td>Sorry about that this is my mates phone and i ...</td>\n",
              "    </tr>\n",
              "    <tr>\n",
              "      <th>2</th>\n",
              "      <td>ham</td>\n",
              "      <td>Good night my dear.. Sleepwell&amp;amp;Take care</td>\n",
              "    </tr>\n",
              "    <tr>\n",
              "      <th>3</th>\n",
              "      <td>spam</td>\n",
              "      <td>Sunshine Hols. To claim ur med holiday send a ...</td>\n",
              "    </tr>\n",
              "    <tr>\n",
              "      <th>4</th>\n",
              "      <td>ham</td>\n",
              "      <td>If you're thinking of lifting me one then no.</td>\n",
              "    </tr>\n",
              "  </tbody>\n",
              "</table>\n",
              "</div>"
            ],
            "text/plain": [
              "  class_label                                            message\n",
              "0         ham                           Webpage s not available!\n",
              "1         ham  Sorry about that this is my mates phone and i ...\n",
              "2         ham       Good night my dear.. Sleepwell&amp;Take care\n",
              "3        spam  Sunshine Hols. To claim ur med holiday send a ...\n",
              "4         ham      If you're thinking of lifting me one then no."
            ]
          },
          "metadata": {
            "tags": []
          },
          "execution_count": 4
        }
      ]
    },
    {
      "cell_type": "code",
      "metadata": {
        "colab": {
          "base_uri": "https://localhost:8080/"
        },
        "id": "wTk2lvzzuq7q",
        "outputId": "a9fcd52e-ad49-4333-9a93-960d05c3bfdc"
      },
      "source": [
        "data.class_label.value_counts()"
      ],
      "execution_count": null,
      "outputs": [
        {
          "output_type": "execute_result",
          "data": {
            "text/plain": [
              "ham     3289\n",
              "spam     491\n",
              "Name: class_label, dtype: int64"
            ]
          },
          "metadata": {
            "tags": []
          },
          "execution_count": 5
        }
      ]
    },
    {
      "cell_type": "markdown",
      "metadata": {
        "id": "8YroATf-vCGh"
      },
      "source": [
        "## **Transformar rótulos em texto para números**"
      ]
    },
    {
      "cell_type": "code",
      "metadata": {
        "id": "P4iYq5HVu7tG"
      },
      "source": [
        "data['class_label'] = data['class_label'].map( {'spam': 1, 'ham': 0} )"
      ],
      "execution_count": null,
      "outputs": []
    },
    {
      "cell_type": "markdown",
      "metadata": {
        "id": "6J2iHegKvcTW"
      },
      "source": [
        "## **Importações para treinar o modelo**"
      ]
    },
    {
      "cell_type": "code",
      "metadata": {
        "id": "S0x9nm8rvceV"
      },
      "source": [
        "#Para processamento do texto\n",
        "from tensorflow.keras.preprocessing.sequence import pad_sequences\n",
        "from tensorflow.keras.preprocessing.text import Tokenizer\n",
        "\n",
        "#Para criar o modelo\n",
        "from tensorflow.keras.models import Sequential\n",
        "from tensorflow.keras.layers import Dense\n",
        "from tensorflow.keras.layers import Flatten\n",
        "from tensorflow.keras.layers import Dropout\n",
        "from tensorflow.keras.layers import Embedding\n",
        "from tensorflow.keras.callbacks import EarlyStopping\n",
        "\n",
        "#Dividir o dataset\n",
        "from sklearn.model_selection import train_test_split"
      ],
      "execution_count": null,
      "outputs": []
    },
    {
      "cell_type": "markdown",
      "metadata": {
        "id": "k0BEPNwovtRg"
      },
      "source": [
        "## **Dividir o dataset em treino e test**"
      ]
    },
    {
      "cell_type": "code",
      "metadata": {
        "id": "MbagugwOvtbY"
      },
      "source": [
        "X = data['message'].values\n",
        "y = data['class_label'].values\n",
        "X_train, X_test, y_train, y_test = train_test_split(X, y, test_size=0.20, random_state=42)"
      ],
      "execution_count": null,
      "outputs": []
    },
    {
      "cell_type": "markdown",
      "metadata": {
        "id": "0S7FzyThwJfZ"
      },
      "source": [
        "## **Tokenizar o dataset para treino**"
      ]
    },
    {
      "cell_type": "code",
      "metadata": {
        "id": "RUHy9LXSwJlb"
      },
      "source": [
        "t = Tokenizer()\n",
        "t.fit_on_texts(X_train)"
      ],
      "execution_count": null,
      "outputs": []
    },
    {
      "cell_type": "markdown",
      "metadata": {
        "id": "8oA2Jnf9wXZm"
      },
      "source": [
        "## **Transformar os textos em números**"
      ]
    },
    {
      "cell_type": "code",
      "metadata": {
        "colab": {
          "base_uri": "https://localhost:8080/"
        },
        "id": "m1khiRxUwXfr",
        "outputId": "8f877127-cdfb-4311-eb9d-3f9759152403"
      },
      "source": [
        "#Encodar os textos para números\n",
        "encoded_train = t.texts_to_sequences(X_train)\n",
        "encoded_test = t.texts_to_sequences(X_test)\n",
        "print(encoded_train[0:2])"
      ],
      "execution_count": null,
      "outputs": [
        {
          "output_type": "stream",
          "text": [
            "[[347, 122, 1535, 7, 188, 1536, 44, 5, 1253, 513, 37, 438, 2938, 1, 35, 88, 61, 2939, 1070, 1071, 102, 88, 73, 24, 37, 2940], [2941, 54, 112, 2942, 3, 28, 1979, 13, 8, 11, 946, 2943, 33, 3, 61]]\n"
          ],
          "name": "stdout"
        }
      ]
    },
    {
      "cell_type": "markdown",
      "metadata": {
        "id": "q9qqaeK2w2po"
      },
      "source": [
        "## **Como os dados não estão uniformes, usar o padding para padronizá-los**"
      ]
    },
    {
      "cell_type": "code",
      "metadata": {
        "colab": {
          "base_uri": "https://localhost:8080/"
        },
        "id": "_CSKA6-bw2v3",
        "outputId": "a2c87f09-8b93-4668-e8dc-9b54c2583dd4"
      },
      "source": [
        "max_length = 10\n",
        "padded_train = pad_sequences(encoded_train, maxlen=max_length, padding='post')\n",
        "padded_test = pad_sequences(encoded_test, maxlen=max_length, padding='post')\n",
        "print(padded_train[0:2])"
      ],
      "execution_count": null,
      "outputs": [
        {
          "output_type": "stream",
          "text": [
            "[[  61 2939 1070 1071  102   88   73   24   37 2940]\n",
            " [  28 1979   13    8   11  946 2943   33    3   61]]\n"
          ],
          "name": "stdout"
        }
      ]
    },
    {
      "cell_type": "markdown",
      "metadata": {
        "id": "TwOFzF8jxmaY"
      },
      "source": [
        "## **Modelo**"
      ]
    },
    {
      "cell_type": "code",
      "metadata": {
        "colab": {
          "base_uri": "https://localhost:8080/"
        },
        "id": "1fNyYrWCxmmY",
        "outputId": "ef6b37d1-94c1-4cdc-ae84-22d4937dfed4"
      },
      "source": [
        "vocab_size = len(t.word_index) + 1\n",
        "\n",
        "model = Sequential()\n",
        "model.add(Embedding(vocab_size, 30, input_length=max_length))\n",
        "model.add(Flatten())\n",
        "model.add(Dense(500, activation='relu'))\n",
        "model.add(Dense(200, activation='relu'))\n",
        "model.add(Dropout(0.5))\n",
        "model.add(Dense(100, activation='relu'))\n",
        "model.add(Dense(1, activation='sigmoid'))\n",
        "\n",
        "#Compilar\n",
        "model.compile(optimizer='rmsprop', loss='binary_crossentropy', metrics=['accuracy'])\n",
        "\n",
        "print(model.summary())"
      ],
      "execution_count": null,
      "outputs": [
        {
          "output_type": "stream",
          "text": [
            "Model: \"sequential\"\n",
            "_________________________________________________________________\n",
            "Layer (type)                 Output Shape              Param #   \n",
            "=================================================================\n",
            "embedding (Embedding)        (None, 10, 30)            194940    \n",
            "_________________________________________________________________\n",
            "flatten (Flatten)            (None, 300)               0         \n",
            "_________________________________________________________________\n",
            "dense (Dense)                (None, 500)               150500    \n",
            "_________________________________________________________________\n",
            "dense_1 (Dense)              (None, 200)               100200    \n",
            "_________________________________________________________________\n",
            "dropout (Dropout)            (None, 200)               0         \n",
            "_________________________________________________________________\n",
            "dense_2 (Dense)              (None, 100)               20100     \n",
            "_________________________________________________________________\n",
            "dense_3 (Dense)              (None, 1)                 101       \n",
            "=================================================================\n",
            "Total params: 465,841\n",
            "Trainable params: 465,841\n",
            "Non-trainable params: 0\n",
            "_________________________________________________________________\n",
            "None\n"
          ],
          "name": "stdout"
        }
      ]
    },
    {
      "cell_type": "markdown",
      "metadata": {
        "id": "bRYCwOOcx_ZH"
      },
      "source": [
        "## **Treino e função de perda para parar o treino**"
      ]
    },
    {
      "cell_type": "code",
      "metadata": {
        "colab": {
          "base_uri": "https://localhost:8080/"
        },
        "id": "TRiip0Oex_mK",
        "outputId": "b219f282-fc02-4001-95e2-b04e923335e2"
      },
      "source": [
        "early_stop = EarlyStopping(monitor='val_loss', mode='min', verbose=1, patience=10)\n",
        "\n",
        "#Treinar\n",
        "model.fit(x=padded_train,\n",
        "         y=y_train,\n",
        "         epochs=50,\n",
        "         validation_data=(padded_test, y_test), verbose=1,\n",
        "         callbacks=[early_stop]\n",
        "         )"
      ],
      "execution_count": null,
      "outputs": [
        {
          "output_type": "stream",
          "text": [
            "Epoch 1/50\n",
            "95/95 [==============================] - 2s 15ms/step - loss: 0.2011 - accuracy: 0.9233 - val_loss: 0.0902 - val_accuracy: 0.9815\n",
            "Epoch 2/50\n",
            "95/95 [==============================] - 1s 11ms/step - loss: 0.0436 - accuracy: 0.9861 - val_loss: 0.0647 - val_accuracy: 0.9828\n",
            "Epoch 3/50\n",
            "95/95 [==============================] - 1s 10ms/step - loss: 0.0075 - accuracy: 0.9977 - val_loss: 0.0966 - val_accuracy: 0.9815\n",
            "Epoch 4/50\n",
            "95/95 [==============================] - 1s 11ms/step - loss: 0.0011 - accuracy: 0.9997 - val_loss: 0.1415 - val_accuracy: 0.9815\n",
            "Epoch 5/50\n",
            "95/95 [==============================] - 1s 10ms/step - loss: 7.5834e-06 - accuracy: 1.0000 - val_loss: 0.1980 - val_accuracy: 0.9815\n",
            "Epoch 6/50\n",
            "95/95 [==============================] - 1s 12ms/step - loss: 1.7015e-06 - accuracy: 1.0000 - val_loss: 0.2526 - val_accuracy: 0.9828\n",
            "Epoch 7/50\n",
            "95/95 [==============================] - 1s 10ms/step - loss: 3.3907e-05 - accuracy: 1.0000 - val_loss: 0.1853 - val_accuracy: 0.9828\n",
            "Epoch 8/50\n",
            "95/95 [==============================] - 1s 10ms/step - loss: 1.0514e-08 - accuracy: 1.0000 - val_loss: 0.1922 - val_accuracy: 0.9815\n",
            "Epoch 9/50\n",
            "95/95 [==============================] - 1s 10ms/step - loss: 1.1128e-08 - accuracy: 1.0000 - val_loss: 0.2147 - val_accuracy: 0.9802\n",
            "Epoch 10/50\n",
            "95/95 [==============================] - 1s 10ms/step - loss: 1.5383e-09 - accuracy: 1.0000 - val_loss: 0.2210 - val_accuracy: 0.9802\n",
            "Epoch 11/50\n",
            "95/95 [==============================] - 1s 12ms/step - loss: 9.7967e-10 - accuracy: 1.0000 - val_loss: 0.2206 - val_accuracy: 0.9815\n",
            "Epoch 12/50\n",
            "95/95 [==============================] - 1s 10ms/step - loss: 3.4666e-09 - accuracy: 1.0000 - val_loss: 0.2214 - val_accuracy: 0.9802\n",
            "Epoch 00012: early stopping\n"
          ],
          "name": "stdout"
        },
        {
          "output_type": "execute_result",
          "data": {
            "text/plain": [
              "<tensorflow.python.keras.callbacks.History at 0x7f43a30c2650>"
            ]
          },
          "metadata": {
            "tags": []
          },
          "execution_count": 13
        }
      ]
    },
    {
      "cell_type": "markdown",
      "metadata": {
        "id": "1QPR0yQeyiUG"
      },
      "source": [
        "## **Salvar modelo e tokenizer**"
      ]
    },
    {
      "cell_type": "code",
      "metadata": {
        "colab": {
          "base_uri": "https://localhost:8080/"
        },
        "id": "AtcEdZYDyidq",
        "outputId": "01c8ab3a-9247-4d9d-8c7d-6492cdd583b9"
      },
      "source": [
        "#Salvar modelo\n",
        "model.save(\"Model/spam_model\")\n",
        "\n",
        "#Salvar tokenizer\n",
        "with open('Model/spam_model/tokenizer.pkl', 'wb') as output:\n",
        "   pickle.dump(t, output, pickle.HIGHEST_PROTOCOL)"
      ],
      "execution_count": null,
      "outputs": [
        {
          "output_type": "stream",
          "text": [
            "INFO:tensorflow:Assets written to: Model/spam_model/assets\n"
          ],
          "name": "stdout"
        }
      ]
    },
    {
      "cell_type": "markdown",
      "metadata": {
        "id": "o0PjSbLoE67H"
      },
      "source": [
        "## **Predição**"
      ]
    },
    {
      "cell_type": "code",
      "metadata": {
        "id": "bVaF9foaEcuT"
      },
      "source": [
        "#Importar modelo\n",
        "s_model = tf.keras.models.load_model(\"Model/spam_model\")\n",
        "with open('Model/spam_model/tokenizer.pkl', 'rb') as input:\n",
        "    tokenizer = pickle.load(input)"
      ],
      "execution_count": null,
      "outputs": []
    },
    {
      "cell_type": "code",
      "metadata": {
        "id": "gxvA1ZUtFHTs"
      },
      "source": [
        "#Função para predição\n",
        "def predictSpam(sms):\n",
        "  sms_proc = tokenizer.texts_to_sequences(sms)\n",
        "  sms_proc = pad_sequences(sms_proc, maxlen=10, padding='post')\n",
        "  pred = (s_model.predict(sms_proc)).item()\n",
        "  return pred"
      ],
      "execution_count": null,
      "outputs": []
    },
    {
      "cell_type": "code",
      "metadata": {
        "id": "a2Twm2MUVSmV"
      },
      "source": [
        "#Função de probabilidade de spam entre 0 e 1\n",
        "def prob_spam(sms):\n",
        "    pred = predictSpam([sms])\n",
        "    return print('{:.20f}'.format(pred))\n",
        "\n",
        "#Função que retorna um bool se é spam\n",
        "def is_spam(sms):\n",
        "  pred = predictSpam([sms])\n",
        "  if pred > 0.5:\n",
        "    return True\n",
        "\n",
        "  else:\n",
        "    return False\n",
        "\n",
        "sms = \"Hello whats your name\"\n",
        "prob_spam(sms)\n",
        "is_spam(sms)"
      ],
      "execution_count": null,
      "outputs": []
    },
    {
      "cell_type": "markdown",
      "metadata": {
        "id": "KOzazr6CeCXo"
      },
      "source": [
        "## **Download do modelo**"
      ]
    },
    {
      "cell_type": "code",
      "metadata": {
        "id": "wEqgKKhYdQlg",
        "colab": {
          "base_uri": "https://localhost:8080/",
          "height": 187
        },
        "outputId": "21296629-d3df-47e7-9a8b-a63a0377b011"
      },
      "source": [
        "!zip -r /content/file.zip Model/\n",
        "\n",
        "from google.colab import files\n",
        "files.download(\"/content/file.zip\")"
      ],
      "execution_count": null,
      "outputs": [
        {
          "output_type": "stream",
          "text": [
            "updating: Model/ (stored 0%)\n",
            "updating: Model/spam_model/ (stored 0%)\n",
            "updating: Model/spam_model/variables/ (stored 0%)\n",
            "updating: Model/spam_model/variables/variables.data-00000-of-00001 (deflated 16%)\n",
            "updating: Model/spam_model/variables/variables.index (deflated 63%)\n",
            "updating: Model/spam_model/assets/ (stored 0%)\n",
            "updating: Model/spam_model/saved_model.pb (deflated 87%)\n",
            "updating: Model/spam_model/keras_metadata.pb (deflated 89%)\n",
            "updating: Model/spam_model/tokenizer.pkl (deflated 51%)\n"
          ],
          "name": "stdout"
        },
        {
          "output_type": "display_data",
          "data": {
            "application/javascript": [
              "\n",
              "    async function download(id, filename, size) {\n",
              "      if (!google.colab.kernel.accessAllowed) {\n",
              "        return;\n",
              "      }\n",
              "      const div = document.createElement('div');\n",
              "      const label = document.createElement('label');\n",
              "      label.textContent = `Downloading \"${filename}\": `;\n",
              "      div.appendChild(label);\n",
              "      const progress = document.createElement('progress');\n",
              "      progress.max = size;\n",
              "      div.appendChild(progress);\n",
              "      document.body.appendChild(div);\n",
              "\n",
              "      const buffers = [];\n",
              "      let downloaded = 0;\n",
              "\n",
              "      const channel = await google.colab.kernel.comms.open(id);\n",
              "      // Send a message to notify the kernel that we're ready.\n",
              "      channel.send({})\n",
              "\n",
              "      for await (const message of channel.messages) {\n",
              "        // Send a message to notify the kernel that we're ready.\n",
              "        channel.send({})\n",
              "        if (message.buffers) {\n",
              "          for (const buffer of message.buffers) {\n",
              "            buffers.push(buffer);\n",
              "            downloaded += buffer.byteLength;\n",
              "            progress.value = downloaded;\n",
              "          }\n",
              "        }\n",
              "      }\n",
              "      const blob = new Blob(buffers, {type: 'application/binary'});\n",
              "      const a = document.createElement('a');\n",
              "      a.href = window.URL.createObjectURL(blob);\n",
              "      a.download = filename;\n",
              "      div.appendChild(a);\n",
              "      a.click();\n",
              "      div.remove();\n",
              "    }\n",
              "  "
            ],
            "text/plain": [
              "<IPython.core.display.Javascript object>"
            ]
          },
          "metadata": {
            "tags": []
          }
        },
        {
          "output_type": "display_data",
          "data": {
            "application/javascript": [
              "download(\"download_6f724c75-4629-45f3-8133-964641edcec7\", \"file.zip\", 3264028)"
            ],
            "text/plain": [
              "<IPython.core.display.Javascript object>"
            ]
          },
          "metadata": {
            "tags": []
          }
        }
      ]
    }
  ]
}