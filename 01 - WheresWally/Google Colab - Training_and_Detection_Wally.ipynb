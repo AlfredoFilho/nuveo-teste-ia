{
  "nbformat": 4,
  "nbformat_minor": 0,
  "metadata": {
    "accelerator": "TPU",
    "colab": {
      "name": "Training and Detection - Wally",
      "provenance": [],
      "collapsed_sections": [
        "o71iEtFHZ6vT",
        "zBFKIYdtX-Xb",
        "MZ0t-d0jXvxY",
        "OLU-rs_ipfDE",
        "-e9qhlleY2lI",
        "M5KJTnkfpfDC",
        "C88zyVELpfDC",
        "qT4QU7pLpfDE",
        "Ga8gpNslpfDF",
        "Zr3ON7xMpfDG",
        "orvRk02UpfDI",
        "8aBHLhj1eyp5",
        "gABkuOkBiSGg",
        "5NQqZRdA21Uc"
      ]
    },
    "kernelspec": {
      "name": "python3",
      "display_name": "Python 3"
    },
    "language_info": {
      "name": "python"
    }
  },
  "cells": [
    {
      "cell_type": "markdown",
      "metadata": {
        "id": "o71iEtFHZ6vT"
      },
      "source": [
        "# **Montar google drive**"
      ]
    },
    {
      "cell_type": "code",
      "metadata": {
        "id": "whShhB0x3PYJ",
        "colab": {
          "base_uri": "https://localhost:8080/"
        },
        "outputId": "55263bfa-2e6a-443b-b28e-f9c7a86f35e9"
      },
      "source": [
        "from google.colab import drive\n",
        "drive.mount('/content/drive')"
      ],
      "execution_count": null,
      "outputs": [
        {
          "output_type": "stream",
          "text": [
            "Mounted at /content/drive\n"
          ],
          "name": "stdout"
        }
      ]
    },
    {
      "cell_type": "code",
      "metadata": {
        "id": "AJlAd9GZz5Qt"
      },
      "source": [
        "%cd drive/MyDrive/"
      ],
      "execution_count": null,
      "outputs": []
    },
    {
      "cell_type": "code",
      "metadata": {
        "id": "146BB11JpfDA"
      },
      "source": [
        "import os"
      ],
      "execution_count": null,
      "outputs": []
    },
    {
      "cell_type": "markdown",
      "metadata": {
        "id": "zBFKIYdtX-Xb"
      },
      "source": [
        "# **Variáveis com diretórios e nome de arquivos**"
      ]
    },
    {
      "cell_type": "code",
      "metadata": {
        "id": "hbPhYVy_pfDB"
      },
      "source": [
        "CUSTOM_MODEL_NAME = 'my_mask_cnn' \n",
        "PRETRAINED_MODEL_NAME = 'mask_rcnn_inception_resnet_v2_1024x1024_coco17_gpu-8'\n",
        "PRETRAINED_MODEL_URL = 'http://download.tensorflow.org/models/object_detection/tf2/20200711/mask_rcnn_inception_resnet_v2_1024x1024_coco17_gpu-8.tar.gz'\n",
        "TF_RECORD_SCRIPT_NAME = 'generate_tfrecord.py'\n",
        "LABEL_MAP_NAME = 'label_map.pbtxt'\n",
        "\n",
        "paths = {\n",
        "    'WORKSPACE_PATH': os.path.join('Tensorflow', 'workspace'),\n",
        "    'SCRIPTS_PATH': os.path.join('Tensorflow','scripts'),\n",
        "    'APIMODEL_PATH': os.path.join('Tensorflow','models'),\n",
        "    'ANNOTATION_PATH': os.path.join('Tensorflow', 'workspace','annotations'),\n",
        "    'IMAGE_PATH': os.path.join('Tensorflow', 'workspace','images'),\n",
        "    'MODEL_PATH': os.path.join('Tensorflow', 'workspace','models'),\n",
        "    'PRETRAINED_MODEL_PATH': os.path.join('Tensorflow', 'workspace','pre-trained-models'),\n",
        "    'CHECKPOINT_PATH': os.path.join('Tensorflow', 'workspace','models',CUSTOM_MODEL_NAME), \n",
        "    'OUTPUT_PATH': os.path.join('Tensorflow', 'workspace','models',CUSTOM_MODEL_NAME, 'export'), \n",
        "    'TFJS_PATH':os.path.join('Tensorflow', 'workspace','models',CUSTOM_MODEL_NAME, 'tfjsexport'), \n",
        "    'TFLITE_PATH':os.path.join('Tensorflow', 'workspace','models',CUSTOM_MODEL_NAME, 'tfliteexport'), \n",
        "    'PROTOC_PATH':os.path.join('Tensorflow','protoc')\n",
        " }\n",
        "\n",
        " files = {\n",
        "    'PIPELINE_CONFIG':os.path.join('Tensorflow', 'workspace','models', CUSTOM_MODEL_NAME, 'pipeline.config'),\n",
        "    'TF_RECORD_SCRIPT': os.path.join(paths['SCRIPTS_PATH'], TF_RECORD_SCRIPT_NAME), \n",
        "    'LABELMAP': os.path.join(paths['ANNOTATION_PATH'], LABEL_MAP_NAME)\n",
        "}"
      ],
      "execution_count": null,
      "outputs": []
    },
    {
      "cell_type": "markdown",
      "metadata": {
        "id": "MZ0t-d0jXvxY"
      },
      "source": [
        "# **Criar diretórios**"
      ]
    },
    {
      "cell_type": "code",
      "metadata": {
        "id": "HR-TfDGrpfDC"
      },
      "source": [
        "for path in paths.values():\n",
        "    if not os.path.exists(path):\n",
        "        if os.name == 'posix':\n",
        "            !mkdir -p {path}"
      ],
      "execution_count": null,
      "outputs": []
    },
    {
      "cell_type": "markdown",
      "metadata": {
        "id": "OLU-rs_ipfDE"
      },
      "source": [
        "# **Instalar object_detection do tensorflow**"
      ]
    },
    {
      "cell_type": "code",
      "metadata": {
        "id": "iA1DIq5OpfDE"
      },
      "source": [
        "if not os.path.exists(os.path.join(paths['APIMODEL_PATH'], 'research', 'object_detection')):\n",
        "    !git clone https://github.com/tensorflow/models {paths['APIMODEL_PATH']}"
      ],
      "execution_count": null,
      "outputs": []
    },
    {
      "cell_type": "code",
      "metadata": {
        "id": "rJjMHbnDs3Tv"
      },
      "source": [
        "# Instalar Tensorflow Object Detection \n",
        "if os.name=='posix':  \n",
        "    !apt-get install protobuf-compiler\n",
        "    !cd Tensorflow/models/research && protoc object_detection/protos/*.proto --python_out=. && cp object_detection/packages/tf2/setup.py . && python -m pip install . \n",
        " "
      ],
      "execution_count": null,
      "outputs": []
    },
    {
      "cell_type": "code",
      "metadata": {
        "scrolled": true,
        "id": "9_PsBRAmk7WL"
      },
      "source": [
        "VERIFICATION_SCRIPT = os.path.join(paths['APIMODEL_PATH'], 'research', 'object_detection', 'builders', 'model_builder_tf2_test.py')\n",
        "# Rodar testes para vefiricar a instalação\n",
        "!python {VERIFICATION_SCRIPT}"
      ],
      "execution_count": null,
      "outputs": []
    },
    {
      "cell_type": "code",
      "metadata": {
        "id": "bVSNOLv9k7WM"
      },
      "source": [
        "import object_detection"
      ],
      "execution_count": null,
      "outputs": []
    },
    {
      "cell_type": "markdown",
      "metadata": {
        "id": "-e9qhlleY2lI"
      },
      "source": [
        "# **Download do modelo pré-treinado**"
      ]
    },
    {
      "cell_type": "code",
      "metadata": {
        "id": "csofht2npfDE"
      },
      "source": [
        "if os.name =='posix':\n",
        "    !wget {PRETRAINED_MODEL_URL}\n",
        "    !mv {PRETRAINED_MODEL_NAME+'.tar.gz'} {paths['PRETRAINED_MODEL_PATH']}\n",
        "    !cd {paths['PRETRAINED_MODEL_PATH']} && tar -zxvf {PRETRAINED_MODEL_NAME+'.tar.gz'}"
      ],
      "execution_count": null,
      "outputs": []
    },
    {
      "cell_type": "markdown",
      "metadata": {
        "id": "M5KJTnkfpfDC"
      },
      "source": [
        "# **Criar label map**"
      ]
    },
    {
      "cell_type": "code",
      "metadata": {
        "id": "p1BVDWo7pfDC"
      },
      "source": [
        "labels = [{'name':'Whally', 'id':1}]\n",
        "\n",
        "with open(files['LABELMAP'], 'w') as f:\n",
        "    for label in labels:\n",
        "        f.write('item { \\n')\n",
        "        f.write('\\tname:\\'{}\\'\\n'.format(label['name']))\n",
        "        f.write('\\tid:{}\\n'.format(label['id']))\n",
        "        f.write('}\\n')"
      ],
      "execution_count": null,
      "outputs": []
    },
    {
      "cell_type": "markdown",
      "metadata": {
        "id": "C88zyVELpfDC"
      },
      "source": [
        "# **Criar records**"
      ]
    },
    {
      "cell_type": "code",
      "metadata": {
        "id": "kvf5WccwrFGq"
      },
      "source": [
        "ARCHIVE_FILES = os.path.join(paths['IMAGE_PATH'], 'archive.tar.gz')\n",
        "if os.path.exists(ARCHIVE_FILES):\n",
        "  !tar -zxvf {ARCHIVE_FILES}"
      ],
      "execution_count": null,
      "outputs": []
    },
    {
      "cell_type": "code",
      "metadata": {
        "id": "KWpb_BVUpfDD"
      },
      "source": [
        "if not os.path.exists(files['TF_RECORD_SCRIPT']):\n",
        "    !git clone https://github.com/nicknochnack/GenerateTFRecord {paths['SCRIPTS_PATH']}"
      ],
      "execution_count": null,
      "outputs": []
    },
    {
      "cell_type": "code",
      "metadata": {
        "id": "UPFToGZqpfDD"
      },
      "source": [
        "!python {files['TF_RECORD_SCRIPT']} -x {os.path.join(paths['IMAGE_PATH'], 'train')} -l {files['LABELMAP']} -o {os.path.join(paths['ANNOTATION_PATH'], 'train.record')} \n",
        "!python {files['TF_RECORD_SCRIPT']} -x {os.path.join(paths['IMAGE_PATH'], 'test')} -l {files['LABELMAP']} -o {os.path.join(paths['ANNOTATION_PATH'], 'test.record')} "
      ],
      "execution_count": null,
      "outputs": []
    },
    {
      "cell_type": "markdown",
      "metadata": {
        "id": "qT4QU7pLpfDE"
      },
      "source": [
        "# **Copiar configurações do modelo**"
      ]
    },
    {
      "cell_type": "code",
      "metadata": {
        "id": "cOjuTFbwpfDF"
      },
      "source": [
        "if os.name =='posix':\n",
        "    !cp {os.path.join(paths['PRETRAINED_MODEL_PATH'], PRETRAINED_MODEL_NAME, 'pipeline.config')} {os.path.join(paths['CHECKPOINT_PATH'])}"
      ],
      "execution_count": null,
      "outputs": []
    },
    {
      "cell_type": "markdown",
      "metadata": {
        "id": "Ga8gpNslpfDF"
      },
      "source": [
        "# **Atualizar configurações**"
      ]
    },
    {
      "cell_type": "code",
      "metadata": {
        "id": "Z9hRrO_ppfDF"
      },
      "source": [
        "import tensorflow as tf\n",
        "from object_detection.utils import config_util\n",
        "from object_detection.protos import pipeline_pb2\n",
        "from google.protobuf import text_format"
      ],
      "execution_count": null,
      "outputs": []
    },
    {
      "cell_type": "code",
      "metadata": {
        "id": "c2A0mn4ipfDF"
      },
      "source": [
        "config = config_util.get_configs_from_pipeline_file(files['PIPELINE_CONFIG'])"
      ],
      "execution_count": null,
      "outputs": []
    },
    {
      "cell_type": "code",
      "metadata": {
        "id": "uQA13-afpfDF"
      },
      "source": [
        "config"
      ],
      "execution_count": null,
      "outputs": []
    },
    {
      "cell_type": "code",
      "metadata": {
        "id": "9vK5lotDpfDF"
      },
      "source": [
        "pipeline_config = pipeline_pb2.TrainEvalPipelineConfig()\n",
        "with tf.io.gfile.GFile(files['PIPELINE_CONFIG'], \"r\") as f:                                                                                                                                                                                                                     \n",
        "    proto_str = f.read()                                                                                                                                                                                                                                          \n",
        "    text_format.Merge(proto_str, pipeline_config)  "
      ],
      "execution_count": null,
      "outputs": []
    },
    {
      "cell_type": "code",
      "metadata": {
        "id": "rP43Ph0JpfDG"
      },
      "source": [
        "pipeline_config.model.ssd.num_classes = len(labels)\n",
        "pipeline_config.train_config.batch_size = 4\n",
        "pipeline_config.train_config.fine_tune_checkpoint = os.path.join(paths['PRETRAINED_MODEL_PATH'], PRETRAINED_MODEL_NAME, 'checkpoint', 'ckpt-0')\n",
        "pipeline_config.train_config.fine_tune_checkpoint_type = \"detection\"\n",
        "pipeline_config.train_input_reader.label_map_path= files['LABELMAP']\n",
        "pipeline_config.train_input_reader.tf_record_input_reader.input_path[:] = [os.path.join(paths['ANNOTATION_PATH'], 'train.record')]\n",
        "pipeline_config.eval_input_reader[0].label_map_path = files['LABELMAP']\n",
        "pipeline_config.eval_input_reader[0].tf_record_input_reader.input_path[:] = [os.path.join(paths['ANNOTATION_PATH'], 'test.record')]"
      ],
      "execution_count": null,
      "outputs": []
    },
    {
      "cell_type": "code",
      "metadata": {
        "id": "oJvfgwWqpfDG"
      },
      "source": [
        "config_text = text_format.MessageToString(pipeline_config)                                                                                                                                                                                                        \n",
        "with tf.io.gfile.GFile(files['PIPELINE_CONFIG'], \"wb\") as f:                                                                                                                                                                                                                     \n",
        "    f.write(config_text)   "
      ],
      "execution_count": null,
      "outputs": []
    },
    {
      "cell_type": "code",
      "metadata": {
        "id": "NG-u7qzJtcFQ"
      },
      "source": [
        "config_text"
      ],
      "execution_count": null,
      "outputs": []
    },
    {
      "cell_type": "markdown",
      "metadata": {
        "id": "Zr3ON7xMpfDG"
      },
      "source": [
        "# **Treinar modelo**"
      ]
    },
    {
      "cell_type": "code",
      "metadata": {
        "id": "B-Y2UQmQpfDG"
      },
      "source": [
        "TRAINING_SCRIPT = os.path.join(paths['APIMODEL_PATH'], 'research', 'object_detection', 'model_main_tf2.py')"
      ],
      "execution_count": null,
      "outputs": []
    },
    {
      "cell_type": "code",
      "metadata": {
        "id": "jMP2XDfQpfDH"
      },
      "source": [
        "command = \"python {} --model_dir={} --pipeline_config_path={} --num_train_steps=2000\".format(TRAINING_SCRIPT, paths['CHECKPOINT_PATH'],files['PIPELINE_CONFIG'])"
      ],
      "execution_count": null,
      "outputs": []
    },
    {
      "cell_type": "code",
      "metadata": {
        "id": "A4OXXi-ApfDH"
      },
      "source": [
        "print(command)"
      ],
      "execution_count": null,
      "outputs": []
    },
    {
      "cell_type": "code",
      "metadata": {
        "id": "i3ZsJR-qpfDH"
      },
      "source": [
        "!{command}"
      ],
      "execution_count": null,
      "outputs": []
    },
    {
      "cell_type": "markdown",
      "metadata": {
        "id": "orvRk02UpfDI"
      },
      "source": [
        "# **Carregar modelo**"
      ]
    },
    {
      "cell_type": "code",
      "metadata": {
        "id": "8TYk4_oIpfDI"
      },
      "source": [
        "import os\n",
        "import tensorflow as tf\n",
        "from object_detection.utils import label_map_util\n",
        "from object_detection.utils import visualization_utils as viz_utils\n",
        "from object_detection.builders import model_builder\n",
        "from object_detection.utils import config_util"
      ],
      "execution_count": null,
      "outputs": []
    },
    {
      "cell_type": "code",
      "metadata": {
        "id": "tDnQg-cYpfDI"
      },
      "source": [
        "# Carregar configs e construir modelo\n",
        "configs = config_util.get_configs_from_pipeline_file(files['PIPELINE_CONFIG'])\n",
        "detection_model = model_builder.build(model_config=configs['model'], is_training=False)\n",
        "\n",
        "# Carregar checkpoint\n",
        "ckpt = tf.compat.v2.train.Checkpoint(model=detection_model)\n",
        "ckpt.restore(os.path.join(paths['CHECKPOINT_PATH'], 'ckpt-3')).expect_partial()\n",
        "\n",
        "@tf.function\n",
        "def detect_fn(image):\n",
        "    image, shapes = detection_model.preprocess(image)\n",
        "    prediction_dict = detection_model.predict(image, shapes)\n",
        "    detections = detection_model.postprocess(prediction_dict, shapes)\n",
        "    return detections"
      ],
      "execution_count": null,
      "outputs": []
    },
    {
      "cell_type": "markdown",
      "metadata": {
        "id": "0EmsmbBZpfDI"
      },
      "source": [
        "# **Detecção**"
      ]
    },
    {
      "cell_type": "code",
      "metadata": {
        "id": "Y_MKiuZ4pfDI"
      },
      "source": [
        "import cv2 \n",
        "import numpy as np\n",
        "from matplotlib import pyplot as plt\n",
        "%matplotlib inline"
      ],
      "execution_count": null,
      "outputs": []
    },
    {
      "cell_type": "code",
      "metadata": {
        "id": "cBDbIhNapfDI"
      },
      "source": [
        "category_index = label_map_util.create_category_index_from_labelmap(files['LABELMAP'])"
      ],
      "execution_count": null,
      "outputs": []
    },
    {
      "cell_type": "code",
      "metadata": {
        "colab": {
          "base_uri": "https://localhost:8080/",
          "height": 370
        },
        "id": "Tpzn1SMry1yK",
        "outputId": "7d78200d-6b0f-4714-f4b7-092cfd391cb6"
      },
      "source": [
        "import os\n",
        "from IPython.display import clear_output \n",
        "DIR = \"/content/drive/MyDrive/Tensorflow/workspace/images/test/\"\n",
        "listCentroids = []\n",
        "\n",
        "entries = [entry for entry in os.listdir(DIR)]\n",
        "for nameImage in entries:\n",
        "\n",
        "  clear_output()\n",
        "\n",
        "  IMAGE_PATH = os.path.join(paths['IMAGE_PATH'], 'test', nameImage)\n",
        "  tf.config.experimental_run_functions_eagerly(True)\n",
        "  img = cv2.imread(IMAGE_PATH)\n",
        "  image_np = np.array(img)\n",
        "\n",
        "  input_tensor = tf.convert_to_tensor(np.expand_dims(image_np, 0), dtype=tf.float32)\n",
        "  detections = detect_fn(input_tensor)\n",
        "\n",
        "  num_detections = int(detections.pop('num_detections'))\n",
        "  detections = {key: value[0, :num_detections].numpy()\n",
        "                for key, value in detections.items()}\n",
        "  detections['num_detections'] = num_detections\n",
        "\n",
        "  #Convertendo detecção para int\n",
        "  detections['detection_classes'] = detections['detection_classes'].astype(np.int64)\n",
        "\n",
        "  label_id_offset = 1\n",
        "  image_np_with_detections = image_np.copy()\n",
        "\n",
        "  viz_utils.visualize_boxes_and_labels_on_image_array(\n",
        "              image_np_with_detections,\n",
        "              detections['detection_boxes'],\n",
        "              detections['detection_classes']+label_id_offset,\n",
        "              detections['detection_scores'],\n",
        "              category_index,\n",
        "              use_normalized_coordinates=True,\n",
        "              max_boxes_to_draw=5,\n",
        "              min_score_thresh=.8,\n",
        "              agnostic_mode=False)\n",
        "\n",
        "  #Calcular centróides\n",
        "  im_height, im_width, channels = img.shape\n",
        "  (left, right, top, bottom) = (detections['detection_boxes'][0][1] * im_width, detections['detection_boxes'][0][3] * im_width, \n",
        "                                detections['detection_boxes'][0][0] * im_height, detections['detection_boxes'][0][2] * im_height)\n",
        "\n",
        "  print(\"\\nA = (\" + str(int(left)) + \", \" + str(int(top)) + \")\")\n",
        "  print(\"B = (\" + str(int(right)) + \", \" + str(int(top)) + \")\")\n",
        "  print(\"C = (\" + str(int(right)) + \", \" + str(int(bottom)) + \")\")\n",
        "  print(\"D = (\" + str(int(left)) + \", \" + str(int(bottom)) + \")\")\n",
        "\n",
        "  widthBox = int(right) - int(left)\n",
        "  heightBox = int(bottom) - int(top)\n",
        "\n",
        "  yCentroid = int((heightBox / 2) + int(top))\n",
        "  xCentroid = int((widthBox / 2) + int(left))\n",
        "\n",
        "  print(\"\\nCentroid = (\" + str(xCentroid) + \", \" + str(yCentroid) + \")\\n\")\n",
        "\n",
        "  image_np_with_detections = cv2.circle(image_np_with_detections, (xCentroid, yCentroid), radius=20, color=(0, 0, 255), thickness=-1)\n",
        "  from google.colab.patches import cv2_imshow\n",
        "  cv2_imshow(cv2.resize(image_np_with_detections, (0,0), fx=0.3, fy=0.3))\n",
        "\n",
        "  #Salvar imagens\n",
        "  DIR = \"/content/drive/MyDrive/ImagesPredict/\" + nameImage\n",
        "  cv2.imwrite(DIR, image_np_with_detections)\n",
        "\n",
        "  #Guardar centróides\n",
        "  listCentroids.append(nameImage + \",\" + str(xCentroid) + \",\" + str(yCentroid) + \"\\n\")"
      ],
      "execution_count": 36,
      "outputs": [
        {
          "output_type": "stream",
          "text": [
            "\n",
            "A = (326, 355)\n",
            "B = (754, 355)\n",
            "C = (754, 640)\n",
            "D = (326, 640)\n",
            "\n",
            "Centroid = (540, 497)\n",
            "\n"
          ],
          "name": "stdout"
        },
        {
          "output_type": "display_data",
          "data": {
            "image/png": "[encoded data removed]",
            "text/plain": [
              "<PIL.Image.Image image mode=RGB size=300x217 at 0x7F24F4D36CD0>"
            ]
          },
          "metadata": {
            "tags": []
          }
        }
      ]
    },
    {
      "cell_type": "markdown",
      "metadata": {
        "id": "8aBHLhj1eyp5"
      },
      "source": [
        "# **Salvar centróides**"
      ]
    },
    {
      "cell_type": "code",
      "metadata": {
        "id": "rG9A1B-yexJJ"
      },
      "source": [
        "import os\n",
        "import codecs\n",
        "\n",
        "DIR = DIR = \"/content/drive/MyDrive/\"\n",
        "\n",
        "with codecs.open(\"Centroids.txt\", \"w\", encoding=\"utf8\") as f:\n",
        "  for c in listCentroids:\n",
        "    f.write(c)\n",
        "  f.close()"
      ],
      "execution_count": null,
      "outputs": []
    },
    {
      "cell_type": "markdown",
      "metadata": {
        "id": "gABkuOkBiSGg"
      },
      "source": [
        "# **Download imagens com predição**"
      ]
    },
    {
      "cell_type": "code",
      "metadata": {
        "id": "0fwB7W-MiOcw"
      },
      "source": [
        "!zip -r imagespredict.zip \"/content/drive/MyDrive/ImagesPredict\"\n",
        "\n",
        "from google.colab import files\n",
        "files.download(\"imagespredict.zip\")"
      ],
      "execution_count": null,
      "outputs": []
    },
    {
      "cell_type": "markdown",
      "metadata": {
        "id": "5NQqZRdA21Uc"
      },
      "source": [
        "# **Download do modelo**"
      ]
    },
    {
      "cell_type": "code",
      "metadata": {
        "id": "tTVTGCQp2ZJJ"
      },
      "source": [
        "!zip -r models.zip 'Tensorflow'\n",
        "\n",
        "from google.colab import files\n",
        "files.download(\"models.zip\")"
      ],
      "execution_count": null,
      "outputs": []
    }
  ]
}